{
  "nbformat": 4,
  "nbformat_minor": 0,
  "metadata": {
    "colab": {
      "provenance": []
    },
    "kernelspec": {
      "name": "python3",
      "display_name": "Python 3"
    },
    "language_info": {
      "name": "python"
    },
    "gpuClass": "standard"
  },
  "cells": [
    {
      "cell_type": "markdown",
      "source": [
        "Code for gathering model outputs into readable tsv files for their projection in Tensorboard Embedding projector: https://projector.tensorflow.org/ \n"
      ],
      "metadata": {
        "id": "efLUHOPAVJsM"
      }
    },
    {
      "cell_type": "code",
      "execution_count": null,
      "metadata": {
        "colab": {
          "base_uri": "https://localhost:8080/"
        },
        "id": "X_omH3jbUDkm",
        "outputId": "bb880d1c-240d-4828-eede-b260f565c101"
      },
      "outputs": [
        {
          "output_type": "stream",
          "name": "stdout",
          "text": [
            "Looking in indexes: https://pypi.org/simple, https://us-python.pkg.dev/colab-wheels/public/simple/\n",
            "Requirement already satisfied: transformers in /usr/local/lib/python3.8/dist-packages (4.25.1)\n",
            "Requirement already satisfied: tqdm>=4.27 in /usr/local/lib/python3.8/dist-packages (from transformers) (4.64.1)\n",
            "Requirement already satisfied: filelock in /usr/local/lib/python3.8/dist-packages (from transformers) (3.9.0)\n",
            "Requirement already satisfied: regex!=2019.12.17 in /usr/local/lib/python3.8/dist-packages (from transformers) (2022.6.2)\n",
            "Requirement already satisfied: tokenizers!=0.11.3,<0.14,>=0.11.1 in /usr/local/lib/python3.8/dist-packages (from transformers) (0.13.2)\n",
            "Requirement already satisfied: numpy>=1.17 in /usr/local/lib/python3.8/dist-packages (from transformers) (1.21.6)\n",
            "Requirement already satisfied: pyyaml>=5.1 in /usr/local/lib/python3.8/dist-packages (from transformers) (6.0)\n",
            "Requirement already satisfied: packaging>=20.0 in /usr/local/lib/python3.8/dist-packages (from transformers) (21.3)\n",
            "Requirement already satisfied: huggingface-hub<1.0,>=0.10.0 in /usr/local/lib/python3.8/dist-packages (from transformers) (0.11.1)\n",
            "Requirement already satisfied: requests in /usr/local/lib/python3.8/dist-packages (from transformers) (2.25.1)\n",
            "Requirement already satisfied: typing-extensions>=3.7.4.3 in /usr/local/lib/python3.8/dist-packages (from huggingface-hub<1.0,>=0.10.0->transformers) (4.4.0)\n",
            "Requirement already satisfied: pyparsing!=3.0.5,>=2.0.2 in /usr/local/lib/python3.8/dist-packages (from packaging>=20.0->transformers) (3.0.9)\n",
            "Requirement already satisfied: certifi>=2017.4.17 in /usr/local/lib/python3.8/dist-packages (from requests->transformers) (2022.12.7)\n",
            "Requirement already satisfied: chardet<5,>=3.0.2 in /usr/local/lib/python3.8/dist-packages (from requests->transformers) (4.0.0)\n",
            "Requirement already satisfied: idna<3,>=2.5 in /usr/local/lib/python3.8/dist-packages (from requests->transformers) (2.10)\n",
            "Requirement already satisfied: urllib3<1.27,>=1.21.1 in /usr/local/lib/python3.8/dist-packages (from requests->transformers) (1.24.3)\n",
            "Looking in indexes: https://pypi.org/simple, https://us-python.pkg.dev/colab-wheels/public/simple/\n",
            "\u001b[31mERROR: Could not find a version that satisfies the requirement torch.utils.tensorboard (from versions: none)\u001b[0m\u001b[31m\n",
            "\u001b[0m\u001b[31mERROR: No matching distribution found for torch.utils.tensorboard\u001b[0m\u001b[31m\n",
            "\u001b[0m"
          ]
        }
      ],
      "source": [
        "!pip install transformers\n",
        "!pip install torch.utils.tensorboard\n"
      ]
    },
    {
      "cell_type": "code",
      "source": [
        "from transformers import AutoModel, RobertaModel\n",
        "from torch.utils.tensorboard import SummaryWriter\n",
        "from transformers.models.auto.tokenization_auto import AutoTokenizer\n",
        "import pandas as pd\n",
        "import re\n",
        "import torch\n",
        "import tensorflow as tf\n",
        "import tensorboard as tb\n",
        "import shutil\n",
        "import os\n",
        "\n",
        "tf.io.gfile = tb.compat.tensorflow_stub.io.gfile #torch and tensorflow compatibility"
      ],
      "metadata": {
        "id": "W52R9YdTik_3"
      },
      "execution_count": null,
      "outputs": []
    },
    {
      "cell_type": "code",
      "source": [
        "from google.colab import drive\n",
        "drive.mount('/content/drive')"
      ],
      "metadata": {
        "colab": {
          "base_uri": "https://localhost:8080/"
        },
        "id": "HdfUUPKXURrS",
        "outputId": "59634084-eeaf-4bad-f070-fa2846e460b5"
      },
      "execution_count": null,
      "outputs": [
        {
          "output_type": "stream",
          "name": "stdout",
          "text": [
            "Drive already mounted at /content/drive; to attempt to forcibly remount, call drive.mount(\"/content/drive\", force_remount=True).\n"
          ]
        }
      ]
    },
    {
      "cell_type": "code",
      "source": [
        "model_type = 'classification' #can choose between 'masked' or 'classification' objective\n",
        "model_name = 'roberta-base'\n",
        "checkpoint_folder = '/content/drive/MyDrive/model/' #The files needed are a folder with pytorch_model.bin and config.bin.\n",
        "config_file = '/content/drive/MyDrive/model/config.json'\n",
        "test_file = '/content/drive/MyDrive/CogALexV/test.tsv'\n",
        "example_batch = slice(0,400)\n",
        "\n",
        "if model_type == 'masked':\n",
        "  special_token = tokenizer.mask_token\n",
        "  if model_name.split('-')[0]=='roberta':\n",
        "    special_token_id = 50264\n",
        "  else:\n",
        "    special_token_id = 103\n",
        "else:\n",
        "  special_token = tokenizer.sep_token\n",
        "  if model_name.split('-')[0]=='roberta':\n",
        "    special_token_id = 2\n",
        "  else:\n",
        "    special_token_id = 102\n",
        "\n",
        "template = \"' <W1> ' \"+special_token+ \" ' <W2> '.\"\n"
      ],
      "metadata": {
        "id": "1L4oMR5LF4Xw"
      },
      "execution_count": null,
      "outputs": []
    },
    {
      "cell_type": "code",
      "source": [
        "tokenizer = AutoTokenizer.from_pretrained(model_name, truncation=True, max_length=32)\n"
      ],
      "metadata": {
        "id": "7kHxxQRwbR0c"
      },
      "execution_count": null,
      "outputs": []
    },
    {
      "cell_type": "code",
      "source": [
        "if model_name.split('-')[0]=='roberta':\n",
        "  model = RobertaModel.from_pretrained(checkpoint_folder)\n",
        "else:\n",
        "  model = BertModel.from_pretrained(checkpoint_folder)"
      ],
      "metadata": {
        "colab": {
          "base_uri": "https://localhost:8080/"
        },
        "id": "B3zsKr48UHo6",
        "outputId": "b330e840-8c62-4c57-d215-058b9fbc99f7"
      },
      "execution_count": null,
      "outputs": [
        {
          "output_type": "stream",
          "name": "stderr",
          "text": [
            "Some weights of the model checkpoint at /content/drive/MyDrive/T1_models_vis/ were not used when initializing RobertaModel: ['classifier.dense.bias', 'classifier.dense.weight', 'classifier.out_proj.bias', 'classifier.out_proj.weight']\n",
            "- This IS expected if you are initializing RobertaModel from the checkpoint of a model trained on another task or with another architecture (e.g. initializing a BertForSequenceClassification model from a BertForPreTraining model).\n",
            "- This IS NOT expected if you are initializing RobertaModel from the checkpoint of a model that you expect to be exactly identical (initializing a BertForSequenceClassification model from a BertForSequenceClassification model).\n",
            "Some weights of RobertaModel were not initialized from the model checkpoint at /content/drive/MyDrive/T1_models_vis/ and are newly initialized: ['roberta.pooler.dense.bias', 'roberta.pooler.dense.weight']\n",
            "You should probably TRAIN this model on a down-stream task to be able to use it for predictions and inference.\n"
          ]
        }
      ]
    },
    {
      "cell_type": "markdown",
      "source": [
        "verbalize test word-pairs"
      ],
      "metadata": {
        "id": "lySeBTgLenfc"
      }
    },
    {
      "cell_type": "code",
      "source": [
        "df = pd.read_csv(test_file, sep='\\t', names=['source', 'target', 'category'], header=None)\n",
        "df['target'] = df['target'].str.split('/')\n",
        "for i in range(len(df['target'])):\n",
        "  df['target'].iloc[i] = df['target'].iloc[i][0]"
      ],
      "metadata": {
        "id": "cwvZxnojbzbs"
      },
      "execution_count": null,
      "outputs": []
    },
    {
      "cell_type": "code",
      "source": [
        "def verbalize(data, template):\n",
        "  df = pd.DataFrame()  \n",
        "  for i in range(len(data[\"source\"])):\n",
        "    w1=data['source'].iloc[i]\n",
        "    w2= data['target'].iloc[i]\n",
        "    verbalization = re.sub(\"<W1>\", w1, template)\n",
        "    verbalization = re.sub(\"<W2>\", w2, verbalization)\n",
        "    row = pd.DataFrame({'verb':[verbalization], 'correct':[w2], 'rel': [data[\"category\"].iloc[i]], 'labels': [data[\"category\"].iloc[i]]})\n",
        "    df = pd.concat((df, row), axis = 0)\n",
        "    df['labels'] = df['rel'].astype('category').cat.codes\n",
        "  return(df)\n",
        "\n",
        "verb_two_pairs_test = verbalize(df, template)\n",
        "\n",
        "verb_two_pairs_test"
      ],
      "metadata": {
        "colab": {
          "base_uri": "https://localhost:8080/",
          "height": 423
        },
        "id": "STOhRKuCcFVk",
        "outputId": "15aa7786-86a0-428d-c462-b4889bd58f9b"
      },
      "execution_count": null,
      "outputs": [
        {
          "output_type": "execute_result",
          "data": {
            "text/plain": [
              "                               verb      correct     rel  labels\n",
              "0         ' coach ' </s> ' teach '.        teach   HYPER       1\n",
              "0       ' coach ' </s> ' teacher '.      teacher   HYPER       1\n",
              "0          ' coach ' </s> ' coat '.         coat  RANDOM       3\n",
              "0           ' coach ' </s> ' dog '.          dog  RANDOM       3\n",
              "0   ' coach ' </s> ' performance '.  performance  RANDOM       3\n",
              "..                              ...          ...     ...     ...\n",
              "0     ' rinse ' </s> ' clergyman '.    clergyman  RANDOM       3\n",
              "0        ' rinse ' </s> ' middle '.       middle  RANDOM       3\n",
              "0          ' rinse ' </s> ' nice '.         nice  RANDOM       3\n",
              "0         ' rinse ' </s> ' plain '.        plain  RANDOM       3\n",
              "0        ' rinse ' </s> ' spirit '.       spirit  RANDOM       3\n",
              "\n",
              "[4260 rows x 4 columns]"
            ],
            "text/html": [
              "\n",
              "  <div id=\"df-66967ae0-711d-4416-8115-727bacd4febb\">\n",
              "    <div class=\"colab-df-container\">\n",
              "      <div>\n",
              "<style scoped>\n",
              "    .dataframe tbody tr th:only-of-type {\n",
              "        vertical-align: middle;\n",
              "    }\n",
              "\n",
              "    .dataframe tbody tr th {\n",
              "        vertical-align: top;\n",
              "    }\n",
              "\n",
              "    .dataframe thead th {\n",
              "        text-align: right;\n",
              "    }\n",
              "</style>\n",
              "<table border=\"1\" class=\"dataframe\">\n",
              "  <thead>\n",
              "    <tr style=\"text-align: right;\">\n",
              "      <th></th>\n",
              "      <th>verb</th>\n",
              "      <th>correct</th>\n",
              "      <th>rel</th>\n",
              "      <th>labels</th>\n",
              "    </tr>\n",
              "  </thead>\n",
              "  <tbody>\n",
              "    <tr>\n",
              "      <th>0</th>\n",
              "      <td>' coach ' &lt;/s&gt; ' teach '.</td>\n",
              "      <td>teach</td>\n",
              "      <td>HYPER</td>\n",
              "      <td>1</td>\n",
              "    </tr>\n",
              "    <tr>\n",
              "      <th>0</th>\n",
              "      <td>' coach ' &lt;/s&gt; ' teacher '.</td>\n",
              "      <td>teacher</td>\n",
              "      <td>HYPER</td>\n",
              "      <td>1</td>\n",
              "    </tr>\n",
              "    <tr>\n",
              "      <th>0</th>\n",
              "      <td>' coach ' &lt;/s&gt; ' coat '.</td>\n",
              "      <td>coat</td>\n",
              "      <td>RANDOM</td>\n",
              "      <td>3</td>\n",
              "    </tr>\n",
              "    <tr>\n",
              "      <th>0</th>\n",
              "      <td>' coach ' &lt;/s&gt; ' dog '.</td>\n",
              "      <td>dog</td>\n",
              "      <td>RANDOM</td>\n",
              "      <td>3</td>\n",
              "    </tr>\n",
              "    <tr>\n",
              "      <th>0</th>\n",
              "      <td>' coach ' &lt;/s&gt; ' performance '.</td>\n",
              "      <td>performance</td>\n",
              "      <td>RANDOM</td>\n",
              "      <td>3</td>\n",
              "    </tr>\n",
              "    <tr>\n",
              "      <th>...</th>\n",
              "      <td>...</td>\n",
              "      <td>...</td>\n",
              "      <td>...</td>\n",
              "      <td>...</td>\n",
              "    </tr>\n",
              "    <tr>\n",
              "      <th>0</th>\n",
              "      <td>' rinse ' &lt;/s&gt; ' clergyman '.</td>\n",
              "      <td>clergyman</td>\n",
              "      <td>RANDOM</td>\n",
              "      <td>3</td>\n",
              "    </tr>\n",
              "    <tr>\n",
              "      <th>0</th>\n",
              "      <td>' rinse ' &lt;/s&gt; ' middle '.</td>\n",
              "      <td>middle</td>\n",
              "      <td>RANDOM</td>\n",
              "      <td>3</td>\n",
              "    </tr>\n",
              "    <tr>\n",
              "      <th>0</th>\n",
              "      <td>' rinse ' &lt;/s&gt; ' nice '.</td>\n",
              "      <td>nice</td>\n",
              "      <td>RANDOM</td>\n",
              "      <td>3</td>\n",
              "    </tr>\n",
              "    <tr>\n",
              "      <th>0</th>\n",
              "      <td>' rinse ' &lt;/s&gt; ' plain '.</td>\n",
              "      <td>plain</td>\n",
              "      <td>RANDOM</td>\n",
              "      <td>3</td>\n",
              "    </tr>\n",
              "    <tr>\n",
              "      <th>0</th>\n",
              "      <td>' rinse ' &lt;/s&gt; ' spirit '.</td>\n",
              "      <td>spirit</td>\n",
              "      <td>RANDOM</td>\n",
              "      <td>3</td>\n",
              "    </tr>\n",
              "  </tbody>\n",
              "</table>\n",
              "<p>4260 rows × 4 columns</p>\n",
              "</div>\n",
              "      <button class=\"colab-df-convert\" onclick=\"convertToInteractive('df-66967ae0-711d-4416-8115-727bacd4febb')\"\n",
              "              title=\"Convert this dataframe to an interactive table.\"\n",
              "              style=\"display:none;\">\n",
              "        \n",
              "  <svg xmlns=\"http://www.w3.org/2000/svg\" height=\"24px\"viewBox=\"0 0 24 24\"\n",
              "       width=\"24px\">\n",
              "    <path d=\"M0 0h24v24H0V0z\" fill=\"none\"/>\n",
              "    <path d=\"M18.56 5.44l.94 2.06.94-2.06 2.06-.94-2.06-.94-.94-2.06-.94 2.06-2.06.94zm-11 1L8.5 8.5l.94-2.06 2.06-.94-2.06-.94L8.5 2.5l-.94 2.06-2.06.94zm10 10l.94 2.06.94-2.06 2.06-.94-2.06-.94-.94-2.06-.94 2.06-2.06.94z\"/><path d=\"M17.41 7.96l-1.37-1.37c-.4-.4-.92-.59-1.43-.59-.52 0-1.04.2-1.43.59L10.3 9.45l-7.72 7.72c-.78.78-.78 2.05 0 2.83L4 21.41c.39.39.9.59 1.41.59.51 0 1.02-.2 1.41-.59l7.78-7.78 2.81-2.81c.8-.78.8-2.07 0-2.86zM5.41 20L4 18.59l7.72-7.72 1.47 1.35L5.41 20z\"/>\n",
              "  </svg>\n",
              "      </button>\n",
              "      \n",
              "  <style>\n",
              "    .colab-df-container {\n",
              "      display:flex;\n",
              "      flex-wrap:wrap;\n",
              "      gap: 12px;\n",
              "    }\n",
              "\n",
              "    .colab-df-convert {\n",
              "      background-color: #E8F0FE;\n",
              "      border: none;\n",
              "      border-radius: 50%;\n",
              "      cursor: pointer;\n",
              "      display: none;\n",
              "      fill: #1967D2;\n",
              "      height: 32px;\n",
              "      padding: 0 0 0 0;\n",
              "      width: 32px;\n",
              "    }\n",
              "\n",
              "    .colab-df-convert:hover {\n",
              "      background-color: #E2EBFA;\n",
              "      box-shadow: 0px 1px 2px rgba(60, 64, 67, 0.3), 0px 1px 3px 1px rgba(60, 64, 67, 0.15);\n",
              "      fill: #174EA6;\n",
              "    }\n",
              "\n",
              "    [theme=dark] .colab-df-convert {\n",
              "      background-color: #3B4455;\n",
              "      fill: #D2E3FC;\n",
              "    }\n",
              "\n",
              "    [theme=dark] .colab-df-convert:hover {\n",
              "      background-color: #434B5C;\n",
              "      box-shadow: 0px 1px 3px 1px rgba(0, 0, 0, 0.15);\n",
              "      filter: drop-shadow(0px 1px 2px rgba(0, 0, 0, 0.3));\n",
              "      fill: #FFFFFF;\n",
              "    }\n",
              "  </style>\n",
              "\n",
              "      <script>\n",
              "        const buttonEl =\n",
              "          document.querySelector('#df-66967ae0-711d-4416-8115-727bacd4febb button.colab-df-convert');\n",
              "        buttonEl.style.display =\n",
              "          google.colab.kernel.accessAllowed ? 'block' : 'none';\n",
              "\n",
              "        async function convertToInteractive(key) {\n",
              "          const element = document.querySelector('#df-66967ae0-711d-4416-8115-727bacd4febb');\n",
              "          const dataTable =\n",
              "            await google.colab.kernel.invokeFunction('convertToInteractive',\n",
              "                                                     [key], {});\n",
              "          if (!dataTable) return;\n",
              "\n",
              "          const docLinkHtml = 'Like what you see? Visit the ' +\n",
              "            '<a target=\"_blank\" href=https://colab.research.google.com/notebooks/data_table.ipynb>data table notebook</a>'\n",
              "            + ' to learn more about interactive tables.';\n",
              "          element.innerHTML = '';\n",
              "          dataTable['output_type'] = 'display_data';\n",
              "          await google.colab.output.renderOutput(dataTable, element);\n",
              "          const docLink = document.createElement('div');\n",
              "          docLink.innerHTML = docLinkHtml;\n",
              "          element.appendChild(docLink);\n",
              "        }\n",
              "      </script>\n",
              "    </div>\n",
              "  </div>\n",
              "  "
            ]
          },
          "metadata": {},
          "execution_count": 8
        }
      ]
    },
    {
      "cell_type": "code",
      "source": [
        "inputs = tokenizer(verb_two_pairs_test['verb'].tolist()[example_batch], padding='max_length', max_length=32, return_tensors='pt')\n"
      ],
      "metadata": {
        "id": "XMKBrTBMWf6y"
      },
      "execution_count": null,
      "outputs": []
    },
    {
      "cell_type": "code",
      "source": [
        "outputs = model(**inputs, output_hidden_states=True)"
      ],
      "metadata": {
        "id": "tH0P4-0uhs1A"
      },
      "execution_count": null,
      "outputs": []
    },
    {
      "cell_type": "code",
      "source": [
        "layer=0\n",
        "os.mkdir('/content/drive/MyDrive/results_vis')\n",
        "while layer in range(len(outputs['hidden_states'])):\n",
        "  if not os.path.exists('/content/drive/MyDrive/results_vis/layer_' + str(layer)):\n",
        "    os.mkdir('/content/drive/MyDrive/results_vis/layer_' + str(layer))\n",
        "  \n",
        "  example = 0\n",
        "  tensors = []\n",
        "  labels = []\n",
        "  while example in range(len(outputs['hidden_states'][layer])):\n",
        "    sp_token_position = 0\n",
        "    for token in inputs['input_ids'][example]:\n",
        "      if token != special_token_id:\n",
        "        sp_token_position += 1\n",
        "      else:\n",
        "        tensor = outputs['hidden_states'][layer][example][sp_token_position]\n",
        "        tensors.append(tensor)\n",
        "        break\n",
        "    example +=1 \n",
        "    label = verb_two_pairs_test['verb'].iloc[example] + '\\t' + verb_two_pairs_test['rel'].iloc[example]\n",
        "    labels.append(label)\n",
        "  \n",
        "  path = '/content/drive/MyDrive/results_vis/layer_' + str(layer)\n",
        "  \n",
        "  writer=SummaryWriter(path)\n",
        "  writer.add_embedding(torch.stack(tensors), metadata=labels)\n",
        "  \n",
        "  layer+=1"
      ],
      "metadata": {
        "id": "tdjabnJGH1LV"
      },
      "execution_count": null,
      "outputs": []
    },
    {
      "cell_type": "markdown",
      "source": [
        "now you can upload metadata and tensors file into the embedding projector [API](https://projector.tensorflow.org/ ) of tensorflow"
      ],
      "metadata": {
        "id": "Q3UnCRWDJENd"
      }
    }
  ]
}